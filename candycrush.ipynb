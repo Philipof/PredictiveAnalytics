{
  "nbformat": 4,
  "nbformat_minor": 0,
  "metadata": {
    "colab": {
      "provenance": [],
      "collapsed_sections": [
        "pgeb0oTuiDhA",
        "Z9gSQINqUWPJ",
        "LeV31CYmUmQO"
      ],
      "authorship_tag": "ABX9TyPc+lXMuzPULwmmkCXwpsX4",
      "include_colab_link": true
    },
    "kernelspec": {
      "name": "python3",
      "display_name": "Python 3"
    },
    "language_info": {
      "name": "python"
    }
  },
  "cells": [
    {
      "cell_type": "markdown",
      "metadata": {
        "id": "view-in-github",
        "colab_type": "text"
      },
      "source": [
        "<a href=\"https://colab.research.google.com/github/Philipof/PredictiveAnalytics/blob/master/candycrush.ipynb\" target=\"_parent\"><img src=\"https://colab.research.google.com/assets/colab-badge.svg\" alt=\"Open In Colab\"/></a>"
      ]
    },
    {
      "cell_type": "code",
      "execution_count": null,
      "metadata": {
        "id": "BReefW5_RI8u"
      },
      "outputs": [],
      "source": [
        "#Import libraries\n",
        "import pandas as pd\n",
        "import matplotlib.pyplot as plt\n",
        "import numpy as np\n",
        "import scipy.stats as stats\n",
        "from scipy.stats import ttest_ind"
      ]
    },
    {
      "cell_type": "code",
      "source": [
        "df = pd.read_csv('candy_crush.csv')"
      ],
      "metadata": {
        "id": "Z4PZMxANWLm0"
      },
      "execution_count": null,
      "outputs": []
    },
    {
      "cell_type": "code",
      "source": [
        "df.info()"
      ],
      "metadata": {
        "colab": {
          "base_uri": "https://localhost:8080/"
        },
        "id": "UGyX2M2QXQ84",
        "outputId": "e0775c9b-06d4-4bf2-8a33-20b342fe8a1a"
      },
      "execution_count": null,
      "outputs": [
        {
          "output_type": "stream",
          "name": "stdout",
          "text": [
            "<class 'pandas.core.frame.DataFrame'>\n",
            "RangeIndex: 90189 entries, 0 to 90188\n",
            "Data columns (total 5 columns):\n",
            " #   Column          Non-Null Count  Dtype\n",
            "---  ------          --------------  -----\n",
            " 0   user_id         90189 non-null  int64\n",
            " 1   gate            90189 non-null  int64\n",
            " 2   gamerounds_sum  90189 non-null  int64\n",
            " 3   retention_day   90189 non-null  bool \n",
            " 4   retention_week  90189 non-null  bool \n",
            "dtypes: bool(2), int64(3)\n",
            "memory usage: 2.2 MB\n"
          ]
        }
      ]
    },
    {
      "cell_type": "code",
      "source": [
        "df.head()"
      ],
      "metadata": {
        "colab": {
          "base_uri": "https://localhost:8080/",
          "height": 206
        },
        "id": "GFG8f00_WL8h",
        "outputId": "09542ff2-2e61-4e4a-ffa9-be02910f5e94"
      },
      "execution_count": null,
      "outputs": [
        {
          "output_type": "execute_result",
          "data": {
            "text/plain": [
              "   user_id  gate  gamerounds_sum  retention_day  retention_week\n",
              "0      116    30               3          False           False\n",
              "1      337    30              38           True           False\n",
              "2      377    50             165           True           False\n",
              "3      483    50               1          False           False\n",
              "4      488    50             179           True            True"
            ],
            "text/html": [
              "\n",
              "  <div id=\"df-0d358c27-9c01-47e0-93ae-9700176a5ca9\">\n",
              "    <div class=\"colab-df-container\">\n",
              "      <div>\n",
              "<style scoped>\n",
              "    .dataframe tbody tr th:only-of-type {\n",
              "        vertical-align: middle;\n",
              "    }\n",
              "\n",
              "    .dataframe tbody tr th {\n",
              "        vertical-align: top;\n",
              "    }\n",
              "\n",
              "    .dataframe thead th {\n",
              "        text-align: right;\n",
              "    }\n",
              "</style>\n",
              "<table border=\"1\" class=\"dataframe\">\n",
              "  <thead>\n",
              "    <tr style=\"text-align: right;\">\n",
              "      <th></th>\n",
              "      <th>user_id</th>\n",
              "      <th>gate</th>\n",
              "      <th>gamerounds_sum</th>\n",
              "      <th>retention_day</th>\n",
              "      <th>retention_week</th>\n",
              "    </tr>\n",
              "  </thead>\n",
              "  <tbody>\n",
              "    <tr>\n",
              "      <th>0</th>\n",
              "      <td>116</td>\n",
              "      <td>30</td>\n",
              "      <td>3</td>\n",
              "      <td>False</td>\n",
              "      <td>False</td>\n",
              "    </tr>\n",
              "    <tr>\n",
              "      <th>1</th>\n",
              "      <td>337</td>\n",
              "      <td>30</td>\n",
              "      <td>38</td>\n",
              "      <td>True</td>\n",
              "      <td>False</td>\n",
              "    </tr>\n",
              "    <tr>\n",
              "      <th>2</th>\n",
              "      <td>377</td>\n",
              "      <td>50</td>\n",
              "      <td>165</td>\n",
              "      <td>True</td>\n",
              "      <td>False</td>\n",
              "    </tr>\n",
              "    <tr>\n",
              "      <th>3</th>\n",
              "      <td>483</td>\n",
              "      <td>50</td>\n",
              "      <td>1</td>\n",
              "      <td>False</td>\n",
              "      <td>False</td>\n",
              "    </tr>\n",
              "    <tr>\n",
              "      <th>4</th>\n",
              "      <td>488</td>\n",
              "      <td>50</td>\n",
              "      <td>179</td>\n",
              "      <td>True</td>\n",
              "      <td>True</td>\n",
              "    </tr>\n",
              "  </tbody>\n",
              "</table>\n",
              "</div>\n",
              "      <button class=\"colab-df-convert\" onclick=\"convertToInteractive('df-0d358c27-9c01-47e0-93ae-9700176a5ca9')\"\n",
              "              title=\"Convert this dataframe to an interactive table.\"\n",
              "              style=\"display:none;\">\n",
              "        \n",
              "  <svg xmlns=\"http://www.w3.org/2000/svg\" height=\"24px\"viewBox=\"0 0 24 24\"\n",
              "       width=\"24px\">\n",
              "    <path d=\"M0 0h24v24H0V0z\" fill=\"none\"/>\n",
              "    <path d=\"M18.56 5.44l.94 2.06.94-2.06 2.06-.94-2.06-.94-.94-2.06-.94 2.06-2.06.94zm-11 1L8.5 8.5l.94-2.06 2.06-.94-2.06-.94L8.5 2.5l-.94 2.06-2.06.94zm10 10l.94 2.06.94-2.06 2.06-.94-2.06-.94-.94-2.06-.94 2.06-2.06.94z\"/><path d=\"M17.41 7.96l-1.37-1.37c-.4-.4-.92-.59-1.43-.59-.52 0-1.04.2-1.43.59L10.3 9.45l-7.72 7.72c-.78.78-.78 2.05 0 2.83L4 21.41c.39.39.9.59 1.41.59.51 0 1.02-.2 1.41-.59l7.78-7.78 2.81-2.81c.8-.78.8-2.07 0-2.86zM5.41 20L4 18.59l7.72-7.72 1.47 1.35L5.41 20z\"/>\n",
              "  </svg>\n",
              "      </button>\n",
              "      \n",
              "  <style>\n",
              "    .colab-df-container {\n",
              "      display:flex;\n",
              "      flex-wrap:wrap;\n",
              "      gap: 12px;\n",
              "    }\n",
              "\n",
              "    .colab-df-convert {\n",
              "      background-color: #E8F0FE;\n",
              "      border: none;\n",
              "      border-radius: 50%;\n",
              "      cursor: pointer;\n",
              "      display: none;\n",
              "      fill: #1967D2;\n",
              "      height: 32px;\n",
              "      padding: 0 0 0 0;\n",
              "      width: 32px;\n",
              "    }\n",
              "\n",
              "    .colab-df-convert:hover {\n",
              "      background-color: #E2EBFA;\n",
              "      box-shadow: 0px 1px 2px rgba(60, 64, 67, 0.3), 0px 1px 3px 1px rgba(60, 64, 67, 0.15);\n",
              "      fill: #174EA6;\n",
              "    }\n",
              "\n",
              "    [theme=dark] .colab-df-convert {\n",
              "      background-color: #3B4455;\n",
              "      fill: #D2E3FC;\n",
              "    }\n",
              "\n",
              "    [theme=dark] .colab-df-convert:hover {\n",
              "      background-color: #434B5C;\n",
              "      box-shadow: 0px 1px 3px 1px rgba(0, 0, 0, 0.15);\n",
              "      filter: drop-shadow(0px 1px 2px rgba(0, 0, 0, 0.3));\n",
              "      fill: #FFFFFF;\n",
              "    }\n",
              "  </style>\n",
              "\n",
              "      <script>\n",
              "        const buttonEl =\n",
              "          document.querySelector('#df-0d358c27-9c01-47e0-93ae-9700176a5ca9 button.colab-df-convert');\n",
              "        buttonEl.style.display =\n",
              "          google.colab.kernel.accessAllowed ? 'block' : 'none';\n",
              "\n",
              "        async function convertToInteractive(key) {\n",
              "          const element = document.querySelector('#df-0d358c27-9c01-47e0-93ae-9700176a5ca9');\n",
              "          const dataTable =\n",
              "            await google.colab.kernel.invokeFunction('convertToInteractive',\n",
              "                                                     [key], {});\n",
              "          if (!dataTable) return;\n",
              "\n",
              "          const docLinkHtml = 'Like what you see? Visit the ' +\n",
              "            '<a target=\"_blank\" href=https://colab.research.google.com/notebooks/data_table.ipynb>data table notebook</a>'\n",
              "            + ' to learn more about interactive tables.';\n",
              "          element.innerHTML = '';\n",
              "          dataTable['output_type'] = 'display_data';\n",
              "          await google.colab.output.renderOutput(dataTable, element);\n",
              "          const docLink = document.createElement('div');\n",
              "          docLink.innerHTML = docLinkHtml;\n",
              "          element.appendChild(docLink);\n",
              "        }\n",
              "      </script>\n",
              "    </div>\n",
              "  </div>\n",
              "  "
            ]
          },
          "metadata": {},
          "execution_count": 4
        }
      ]
    },
    {
      "cell_type": "code",
      "source": [
        "#Get counts of users allocated to each gate\n",
        "counts = df['gate'].value_counts()\n",
        "print(counts)"
      ],
      "metadata": {
        "colab": {
          "base_uri": "https://localhost:8080/"
        },
        "id": "nz_j7XOLM_ps",
        "outputId": "19b86ccc-99ff-4c97-ae23-41e784de02be"
      },
      "execution_count": null,
      "outputs": [
        {
          "output_type": "stream",
          "name": "stdout",
          "text": [
            "50    45489\n",
            "30    44700\n",
            "Name: gate, dtype: int64\n"
          ]
        }
      ]
    },
    {
      "cell_type": "code",
      "source": [
        "#Create a bar chart\n",
        "plt.bar(counts.index, counts.values, width = 10)\n",
        "\n",
        "#Set the x-ticks to only show 30 and 50\n",
        "plt.xticks([30, 50])\n",
        "\n",
        "#Set the chart title and axes labels\n",
        "plt.title('Balance of Gate Data')\n",
        "plt.xlabel('Gate')\n",
        "plt.ylabel('Count')\n",
        "\n",
        "#Display the chart\n",
        "plt.show()"
      ],
      "metadata": {
        "colab": {
          "base_uri": "https://localhost:8080/",
          "height": 472
        },
        "id": "9ei-v_h3LGnN",
        "outputId": "6505af6f-e90a-4308-f6a9-5e4236dd16df"
      },
      "execution_count": null,
      "outputs": [
        {
          "output_type": "display_data",
          "data": {
            "text/plain": [
              "<Figure size 640x480 with 1 Axes>"
            ],
            "image/png": "[encoded data removed]"
          },
          "metadata": {}
        }
      ]
    },
    {
      "cell_type": "code",
      "source": [
        "#Count values for retention_day\n",
        "value_counts = df['retention_day'].value_counts()\n",
        "\n",
        "print(value_counts)"
      ],
      "metadata": {
        "colab": {
          "base_uri": "https://localhost:8080/"
        },
        "id": "P73IaGhKeSm1",
        "outputId": "2727c91c-c946-4989-cf84-909200b0be59"
      },
      "execution_count": null,
      "outputs": [
        {
          "output_type": "stream",
          "name": "stdout",
          "text": [
            "False    50036\n",
            "True     40153\n",
            "Name: retention_day, dtype: int64\n"
          ]
        }
      ]
    },
    {
      "cell_type": "code",
      "source": [
        "plt.bar(value_counts.index.astype(str), value_counts.values, width=0.8)\n",
        "\n",
        "#Set the chart title and axes labels\n",
        "plt.title('True or False Count')\n",
        "plt.xlabel('Value')\n",
        "plt.ylabel('Count')\n",
        "\n",
        "#Display the chart\n",
        "plt.show()"
      ],
      "metadata": {
        "colab": {
          "base_uri": "https://localhost:8080/",
          "height": 472
        },
        "id": "VmXf17vYgrdQ",
        "outputId": "cca50ab6-0252-47da-894d-19b031c99bbf"
      },
      "execution_count": null,
      "outputs": [
        {
          "output_type": "display_data",
          "data": {
            "text/plain": [
              "<Figure size 640x480 with 1 Axes>"
            ],
            "image/png": "[encoded data removed]"
          },
          "metadata": {}
        }
      ]
    },
    {
      "cell_type": "code",
      "source": [
        "#Count values for retention_week\n",
        "value_counts = df['retention_week'].value_counts()\n",
        "\n",
        "print(value_counts)"
      ],
      "metadata": {
        "colab": {
          "base_uri": "https://localhost:8080/"
        },
        "id": "DW8dmNQ9hOfK",
        "outputId": "cbacf7ce-71a8-433b-bb95-b0446e69946e"
      },
      "execution_count": null,
      "outputs": [
        {
          "output_type": "stream",
          "name": "stdout",
          "text": [
            "False    73408\n",
            "True     16781\n",
            "Name: retention_week, dtype: int64\n"
          ]
        }
      ]
    },
    {
      "cell_type": "code",
      "source": [
        "plt.bar(value_counts.index.astype(str), value_counts.values, width=0.8)\n",
        "\n",
        "#Set the chart title and axes labels\n",
        "plt.title('True or False Count')\n",
        "plt.xlabel('Value')\n",
        "plt.ylabel('Count')\n",
        "\n",
        "#Display the chart\n",
        "plt.show()"
      ],
      "metadata": {
        "colab": {
          "base_uri": "https://localhost:8080/",
          "height": 472
        },
        "id": "9VWyOgH8hZX1",
        "outputId": "1941ca0c-9391-4666-840e-9e543c927f28"
      },
      "execution_count": null,
      "outputs": [
        {
          "output_type": "display_data",
          "data": {
            "text/plain": [
              "<Figure size 640x480 with 1 Axes>"
            ],
            "image/png": "[encoded data removed]"
          },
          "metadata": {}
        }
      ]
    },
    {
      "cell_type": "code",
      "source": [
        "#Describe details of numerical columns\n",
        "df.describe()"
      ],
      "metadata": {
        "colab": {
          "base_uri": "https://localhost:8080/",
          "height": 300
        },
        "id": "-nukM-OpXVj9",
        "outputId": "3fe8986b-0c53-43eb-bf28-3f7c0445abe5"
      },
      "execution_count": null,
      "outputs": [
        {
          "output_type": "execute_result",
          "data": {
            "text/plain": [
              "            user_id          gate  gamerounds_sum\n",
              "count  9.018900e+04  90189.000000    90189.000000\n",
              "mean   4.998412e+06     40.087483       51.872457\n",
              "std    2.883286e+06      9.999673      195.050858\n",
              "min    1.160000e+02     30.000000        0.000000\n",
              "25%    2.512230e+06     30.000000        5.000000\n",
              "50%    4.995815e+06     50.000000       16.000000\n",
              "75%    7.496452e+06     50.000000       51.000000\n",
              "max    9.999861e+06     50.000000    49854.000000"
            ],
            "text/html": [
              "\n",
              "  <div id=\"df-a26a0e7c-8948-4c6d-84e1-c4e1517a4a0d\">\n",
              "    <div class=\"colab-df-container\">\n",
              "      <div>\n",
              "<style scoped>\n",
              "    .dataframe tbody tr th:only-of-type {\n",
              "        vertical-align: middle;\n",
              "    }\n",
              "\n",
              "    .dataframe tbody tr th {\n",
              "        vertical-align: top;\n",
              "    }\n",
              "\n",
              "    .dataframe thead th {\n",
              "        text-align: right;\n",
              "    }\n",
              "</style>\n",
              "<table border=\"1\" class=\"dataframe\">\n",
              "  <thead>\n",
              "    <tr style=\"text-align: right;\">\n",
              "      <th></th>\n",
              "      <th>user_id</th>\n",
              "      <th>gate</th>\n",
              "      <th>gamerounds_sum</th>\n",
              "    </tr>\n",
              "  </thead>\n",
              "  <tbody>\n",
              "    <tr>\n",
              "      <th>count</th>\n",
              "      <td>9.018900e+04</td>\n",
              "      <td>90189.000000</td>\n",
              "      <td>90189.000000</td>\n",
              "    </tr>\n",
              "    <tr>\n",
              "      <th>mean</th>\n",
              "      <td>4.998412e+06</td>\n",
              "      <td>40.087483</td>\n",
              "      <td>51.872457</td>\n",
              "    </tr>\n",
              "    <tr>\n",
              "      <th>std</th>\n",
              "      <td>2.883286e+06</td>\n",
              "      <td>9.999673</td>\n",
              "      <td>195.050858</td>\n",
              "    </tr>\n",
              "    <tr>\n",
              "      <th>min</th>\n",
              "      <td>1.160000e+02</td>\n",
              "      <td>30.000000</td>\n",
              "      <td>0.000000</td>\n",
              "    </tr>\n",
              "    <tr>\n",
              "      <th>25%</th>\n",
              "      <td>2.512230e+06</td>\n",
              "      <td>30.000000</td>\n",
              "      <td>5.000000</td>\n",
              "    </tr>\n",
              "    <tr>\n",
              "      <th>50%</th>\n",
              "      <td>4.995815e+06</td>\n",
              "      <td>50.000000</td>\n",
              "      <td>16.000000</td>\n",
              "    </tr>\n",
              "    <tr>\n",
              "      <th>75%</th>\n",
              "      <td>7.496452e+06</td>\n",
              "      <td>50.000000</td>\n",
              "      <td>51.000000</td>\n",
              "    </tr>\n",
              "    <tr>\n",
              "      <th>max</th>\n",
              "      <td>9.999861e+06</td>\n",
              "      <td>50.000000</td>\n",
              "      <td>49854.000000</td>\n",
              "    </tr>\n",
              "  </tbody>\n",
              "</table>\n",
              "</div>\n",
              "      <button class=\"colab-df-convert\" onclick=\"convertToInteractive('df-a26a0e7c-8948-4c6d-84e1-c4e1517a4a0d')\"\n",
              "              title=\"Convert this dataframe to an interactive table.\"\n",
              "              style=\"display:none;\">\n",
              "        \n",
              "  <svg xmlns=\"http://www.w3.org/2000/svg\" height=\"24px\"viewBox=\"0 0 24 24\"\n",
              "       width=\"24px\">\n",
              "    <path d=\"M0 0h24v24H0V0z\" fill=\"none\"/>\n",
              "    <path d=\"M18.56 5.44l.94 2.06.94-2.06 2.06-.94-2.06-.94-.94-2.06-.94 2.06-2.06.94zm-11 1L8.5 8.5l.94-2.06 2.06-.94-2.06-.94L8.5 2.5l-.94 2.06-2.06.94zm10 10l.94 2.06.94-2.06 2.06-.94-2.06-.94-.94-2.06-.94 2.06-2.06.94z\"/><path d=\"M17.41 7.96l-1.37-1.37c-.4-.4-.92-.59-1.43-.59-.52 0-1.04.2-1.43.59L10.3 9.45l-7.72 7.72c-.78.78-.78 2.05 0 2.83L4 21.41c.39.39.9.59 1.41.59.51 0 1.02-.2 1.41-.59l7.78-7.78 2.81-2.81c.8-.78.8-2.07 0-2.86zM5.41 20L4 18.59l7.72-7.72 1.47 1.35L5.41 20z\"/>\n",
              "  </svg>\n",
              "      </button>\n",
              "      \n",
              "  <style>\n",
              "    .colab-df-container {\n",
              "      display:flex;\n",
              "      flex-wrap:wrap;\n",
              "      gap: 12px;\n",
              "    }\n",
              "\n",
              "    .colab-df-convert {\n",
              "      background-color: #E8F0FE;\n",
              "      border: none;\n",
              "      border-radius: 50%;\n",
              "      cursor: pointer;\n",
              "      display: none;\n",
              "      fill: #1967D2;\n",
              "      height: 32px;\n",
              "      padding: 0 0 0 0;\n",
              "      width: 32px;\n",
              "    }\n",
              "\n",
              "    .colab-df-convert:hover {\n",
              "      background-color: #E2EBFA;\n",
              "      box-shadow: 0px 1px 2px rgba(60, 64, 67, 0.3), 0px 1px 3px 1px rgba(60, 64, 67, 0.15);\n",
              "      fill: #174EA6;\n",
              "    }\n",
              "\n",
              "    [theme=dark] .colab-df-convert {\n",
              "      background-color: #3B4455;\n",
              "      fill: #D2E3FC;\n",
              "    }\n",
              "\n",
              "    [theme=dark] .colab-df-convert:hover {\n",
              "      background-color: #434B5C;\n",
              "      box-shadow: 0px 1px 3px 1px rgba(0, 0, 0, 0.15);\n",
              "      filter: drop-shadow(0px 1px 2px rgba(0, 0, 0, 0.3));\n",
              "      fill: #FFFFFF;\n",
              "    }\n",
              "  </style>\n",
              "\n",
              "      <script>\n",
              "        const buttonEl =\n",
              "          document.querySelector('#df-a26a0e7c-8948-4c6d-84e1-c4e1517a4a0d button.colab-df-convert');\n",
              "        buttonEl.style.display =\n",
              "          google.colab.kernel.accessAllowed ? 'block' : 'none';\n",
              "\n",
              "        async function convertToInteractive(key) {\n",
              "          const element = document.querySelector('#df-a26a0e7c-8948-4c6d-84e1-c4e1517a4a0d');\n",
              "          const dataTable =\n",
              "            await google.colab.kernel.invokeFunction('convertToInteractive',\n",
              "                                                     [key], {});\n",
              "          if (!dataTable) return;\n",
              "\n",
              "          const docLinkHtml = 'Like what you see? Visit the ' +\n",
              "            '<a target=\"_blank\" href=https://colab.research.google.com/notebooks/data_table.ipynb>data table notebook</a>'\n",
              "            + ' to learn more about interactive tables.';\n",
              "          element.innerHTML = '';\n",
              "          dataTable['output_type'] = 'display_data';\n",
              "          await google.colab.output.renderOutput(dataTable, element);\n",
              "          const docLink = document.createElement('div');\n",
              "          docLink.innerHTML = docLinkHtml;\n",
              "          element.appendChild(docLink);\n",
              "        }\n",
              "      </script>\n",
              "    </div>\n",
              "  </div>\n",
              "  "
            ]
          },
          "metadata": {},
          "execution_count": 11
        }
      ]
    },
    {
      "cell_type": "code",
      "source": [
        "#Generate 99th percentile \n",
        "percentile_99 = df['gamerounds_sum'].quantile(0.99)\n",
        "print(percentile_99)"
      ],
      "metadata": {
        "colab": {
          "base_uri": "https://localhost:8080/"
        },
        "id": "RNqEPSuscgfm",
        "outputId": "62ab0573-ee23-4d8c-aed3-464ac3f9141b"
      },
      "execution_count": null,
      "outputs": [
        {
          "output_type": "stream",
          "name": "stdout",
          "text": [
            "493.0\n"
          ]
        }
      ]
    },
    {
      "cell_type": "code",
      "source": [
        "#Display scatter-plot\n",
        "x = df.index.values\n",
        "y = df['gamerounds_sum']\n",
        "\n",
        "plt.scatter(x, y)\n",
        "plt.title('Scatter plot of gamerounds_sum')\n",
        "plt.xlabel('Index')\n",
        "plt.ylabel('Game rounds')\n",
        "plt.show()"
      ],
      "metadata": {
        "colab": {
          "base_uri": "https://localhost:8080/",
          "height": 472
        },
        "id": "nd-zpC4kZ7dZ",
        "outputId": "717be2f1-2dfd-4ba5-967e-1fa185c9a843"
      },
      "execution_count": null,
      "outputs": [
        {
          "output_type": "display_data",
          "data": {
            "text/plain": [
              "<Figure size 640x480 with 1 Axes>"
            ],
            "image/png": "[encoded data removed]"
          },
          "metadata": {}
        }
      ]
    },
    {
      "cell_type": "code",
      "source": [
        "#Find the number of time the rounds value was over 2000\n",
        "mask = df['gamerounds_sum'] > 2000\n",
        "\n",
        "#Count the number of True values in the mask\n",
        "count = mask.sum()\n",
        "\n",
        "#Print the count\n",
        "print(f'Number of values over 2,000: {count}')\n",
        "\n",
        "#Filter the DataFrame using the mask and print the rows\n",
        "rows = df[mask]\n",
        "print(rows)"
      ],
      "metadata": {
        "colab": {
          "base_uri": "https://localhost:8080/"
        },
        "id": "f7fYEJM1cGd5",
        "outputId": "64a9fa8e-8dbe-487c-e3f1-84dda207af30"
      },
      "execution_count": null,
      "outputs": [
        {
          "output_type": "stream",
          "name": "stdout",
          "text": [
            "Number of values over 2,000: 10\n",
            "       user_id  gate  gamerounds_sum  retention_day  retention_week\n",
            "6536    725080    50            2015           True            True\n",
            "7912    871500    30            2961           True            True\n",
            "29417  3271615    50            2640           True           False\n",
            "36933  4090246    50            2124           True            True\n",
            "43671  4832608    30            2438           True            True\n",
            "46344  5133952    30            2251           True            True\n",
            "48188  5346171    50            2294           True            True\n",
            "57702  6390605    30           49854          False            True\n",
            "87007  9640085    30            2156           True            True\n",
            "88328  9791599    50            2063           True            True\n"
          ]
        }
      ]
    },
    {
      "cell_type": "code",
      "source": [
        "#Single out the outlier\n",
        "outlier = df['gamerounds_sum'] > 40000\n",
        "\n",
        "#Drop the outlier\n",
        "df = df.drop(df[outlier].index)"
      ],
      "metadata": {
        "id": "aADo6Btiizj7"
      },
      "execution_count": null,
      "outputs": []
    },
    {
      "cell_type": "code",
      "source": [
        "#Count how many users did not play after installing game\n",
        "count_of_zeros = df['gamerounds_sum'].value_counts()[0]\n",
        "print(count_of_zeros)\n",
        "\n",
        "#Get rid of the columns\n",
        "df = df[df['gamerounds_sum'] != 0]"
      ],
      "metadata": {
        "colab": {
          "base_uri": "https://localhost:8080/"
        },
        "id": "o3hEJ4qMX83v",
        "outputId": "54789f48-5947-4c5f-88d5-9f7d2cf5cb4c"
      },
      "execution_count": null,
      "outputs": [
        {
          "output_type": "stream",
          "name": "stdout",
          "text": [
            "3994\n"
          ]
        }
      ]
    },
    {
      "cell_type": "code",
      "source": [
        "#Display scatter-plot\n",
        "x = df.index.values\n",
        "y = df['gamerounds_sum']\n",
        "\n",
        "plt.scatter(x, y)\n",
        "plt.title('Scatter plot of gamerounds_sum')\n",
        "plt.xlabel('Index')\n",
        "plt.ylabel('Game rounds')\n",
        "plt.show()"
      ],
      "metadata": {
        "colab": {
          "base_uri": "https://localhost:8080/",
          "height": 472
        },
        "id": "kXR9yC848i4b",
        "outputId": "edbf5bcd-6f77-43c1-d3aa-634e634cf23f"
      },
      "execution_count": null,
      "outputs": [
        {
          "output_type": "display_data",
          "data": {
            "text/plain": [
              "<Figure size 640x480 with 1 Axes>"
            ],
            "image/png": "[encoded data removed]"
          },
          "metadata": {}
        }
      ]
    },
    {
      "cell_type": "markdown",
      "source": [
        "# **Game Rounds**"
      ],
      "metadata": {
        "id": "pgeb0oTuiDhA"
      }
    },
    {
      "cell_type": "code",
      "source": [
        "#Get total rounds played\n",
        "total_gamerounds = df['gamerounds_sum'].sum()\n",
        "print(f\"Total game rounds: {total_gamerounds}\")"
      ],
      "metadata": {
        "colab": {
          "base_uri": "https://localhost:8080/"
        },
        "id": "Z7K5xd1ebGzU",
        "outputId": "17696214-e19d-4bd3-f9b8-a8646180e284"
      },
      "execution_count": null,
      "outputs": [
        {
          "output_type": "stream",
          "name": "stdout",
          "text": [
            "Total game rounds: 4628471\n"
          ]
        }
      ]
    },
    {
      "cell_type": "code",
      "source": [
        "#Get total for each gatw\n",
        "gate_sum = df.groupby('gate')['gamerounds_sum'].sum()\n",
        "\n",
        "#Calculate the difference between gate 30 and gate 50\n",
        "diff = gate_sum[30] - gate_sum[50]\n",
        "\n",
        "\n",
        "print('Gate 30 total game rounds:', gate_sum[30])\n",
        "print('Gate 50 total game rounds:', gate_sum[50])\n",
        "print('Difference:', diff)"
      ],
      "metadata": {
        "colab": {
          "base_uri": "https://localhost:8080/"
        },
        "id": "CtsQ_pE1UZPF",
        "outputId": "83f56216-d710-413e-89ce-8867f148a02b"
      },
      "execution_count": null,
      "outputs": [
        {
          "output_type": "stream",
          "name": "stdout",
          "text": [
            "Gate 30 total game rounds: 2294941\n",
            "Gate 50 total game rounds: 2333530\n",
            "Difference: -38589\n"
          ]
        }
      ]
    },
    {
      "cell_type": "code",
      "source": [
        "#Create the bar chart with labels\n",
        "fig, ax = plt.subplots()\n",
        "\n",
        "#Plot the bars with the sums as labels\n",
        "rects = ax.bar(gate_sum.index, gate_sum.values, width=10)\n",
        "for i, rect in enumerate(rects):\n",
        "    height = rect.get_height()\n",
        "    ax.text(rect.get_x() + rect.get_width() / 2, height+5000, gate_sum.values[i], ha='center', va='bottom')\n",
        "\n",
        "#Set the x-ticks to only show 30 and 50\n",
        "plt.xticks([30, 50])\n",
        "\n",
        "#Set the chart title and axes labels\n",
        "plt.title('Total Game Rounds by Gate')\n",
        "plt.xlabel('Gate')\n",
        "plt.ylabel('Total Game Rounds')\n",
        "\n",
        "#Display the chart \n",
        "plt.show()"
      ],
      "metadata": {
        "colab": {
          "base_uri": "https://localhost:8080/",
          "height": 472
        },
        "id": "pkwXNroyLJOH",
        "outputId": "81b50c74-9640-4f9c-ed15-0445c4803dca"
      },
      "execution_count": null,
      "outputs": [
        {
          "output_type": "display_data",
          "data": {
            "text/plain": [
              "<Figure size 640x480 with 1 Axes>"
            ],
            "image/png": "[encoded data removed]"
          },
          "metadata": {}
        }
      ]
    },
    {
      "cell_type": "code",
      "source": [
        "#Calculate the mean rounds played for each gate\n",
        "thirty_retention = df[df['gate']==30]['gamerounds_sum'].mean()\n",
        "fifty_retention = df[df['gate']==50]['gamerounds_sum'].mean()\n",
        "\n",
        "#Calculate the difference between the two groups\n",
        "diff = fifty_retention - thirty_retention\n",
        "\n",
        "print(f'Gate 30 average game rounds: {thirty_retention:.4}')\n",
        "print(f'Gate 50 average game rounds: {fifty_retention:.4}')\n",
        "print(f'Difference: {diff:.1}')"
      ],
      "metadata": {
        "colab": {
          "base_uri": "https://localhost:8080/"
        },
        "id": "JDNAnfXkS12I",
        "outputId": "9cb9bc2d-42aa-4e14-be2d-8010ca8f84e2"
      },
      "execution_count": null,
      "outputs": [
        {
          "output_type": "stream",
          "name": "stdout",
          "text": [
            "Gate 30 average game rounds: 53.67\n",
            "Gate 50 average game rounds: 53.73\n",
            "Difference: 0.06\n"
          ]
        }
      ]
    },
    {
      "cell_type": "code",
      "source": [
        "#Perform a two-sample t-test\n",
        "t_statistic, p_value = stats.ttest_ind(df[df['gate']==30]['gamerounds_sum'], df[df['gate']==50]['gamerounds_sum'])\n",
        "\n",
        "#Calculate Lift\n",
        "baseline = df[df['gate']==30]['gamerounds_sum'].mean()\n",
        "lift = ((df[df['gate']==50]['gamerounds_sum'].mean() - baseline) / baseline)*100\n",
        "\n",
        "print(f'Lift: {lift:.2f}%')\n",
        "print(f't-statistic: {t_statistic:.3f}')\n",
        "print(f'p-value: {p_value:4f}')"
      ],
      "metadata": {
        "colab": {
          "base_uri": "https://localhost:8080/"
        },
        "id": "inN4o6H4ec7G",
        "outputId": "da1ec440-f8ae-4f90-bb5c-e9dce595d4de"
      },
      "execution_count": null,
      "outputs": [
        {
          "output_type": "stream",
          "name": "stdout",
          "text": [
            "Lift: 0.11%\n",
            "t-statistic: -0.085\n",
            "p-value: 0.932125\n"
          ]
        }
      ]
    },
    {
      "cell_type": "markdown",
      "source": [
        "# **One Day Retention**"
      ],
      "metadata": {
        "id": "Z9gSQINqUWPJ"
      }
    },
    {
      "cell_type": "code",
      "source": [
        "#Count the number of True and False values for retention_day for each gate\n",
        "counts = df.groupby(['gate', 'retention_day'])['retention_day'].count()\n",
        "\n",
        "#Extract the counts for each category\n",
        "gate30_true_count = counts[30][True]\n",
        "gate30_false_count = counts[30][False]\n",
        "gate50_true_count = counts[50][True]\n",
        "gate50_false_count = counts[50][False]\n",
        "\n",
        "#Create a bar chart\n",
        "plt.bar([1,2,4,5], [gate30_true_count, gate30_false_count, gate50_true_count, gate50_false_count], width = 0.8, color=['blue', 'red', 'blue', 'red'])\n",
        "\n",
        "#Set the x-ticks and labels\n",
        "plt.xticks([1.5, 4.5], ['Gate 30', 'Gate 50'])\n",
        "plt.gca().xaxis.set_tick_params(width=0)\n",
        "\n",
        "#Set the chart title and axes labels\n",
        "plt.title('Retention Rate by Gate')\n",
        "plt.xlabel('Gate')\n",
        "plt.ylabel('Count')\n",
        "\n",
        "#Add labels to the bars\n",
        "plt.text(1, gate30_true_count + 200, str(gate30_true_count), ha='center')\n",
        "plt.text(2, gate30_false_count + 200, str(gate30_false_count), ha='center')\n",
        "plt.text(4, gate50_true_count + 200, str(gate50_true_count), ha='center')\n",
        "plt.text(5, gate50_false_count + 200, str(gate50_false_count), ha='center')\n",
        "\n",
        "#Display the chart\n",
        "plt.show()"
      ],
      "metadata": {
        "colab": {
          "base_uri": "https://localhost:8080/",
          "height": 472
        },
        "id": "s5o4tEODBCDr",
        "outputId": "d82405a6-3097-4b8a-cc7c-6db2ea9604c0"
      },
      "execution_count": null,
      "outputs": [
        {
          "output_type": "display_data",
          "data": {
            "text/plain": [
              "<Figure size 640x480 with 1 Axes>"
            ],
            "image/png": "[encoded data removed]"
          },
          "metadata": {}
        }
      ]
    },
    {
      "cell_type": "code",
      "source": [
        "#Calculate the mean retention for each group\n",
        "thirty_retention = df[df['gate']==30]['retention_day'].mean()\n",
        "fifty_retention = df[df['gate']==50]['retention_day'].mean()\n",
        "\n",
        "#Calculate the difference between the two groups\n",
        "diff = fifty_retention - thirty_retention\n",
        "\n",
        "print(f'Gate 30 One-day Retention: {thirty_retention:.4%}')\n",
        "print(f'Gate 50 One-day Retention: {fifty_retention:.4%}')\n",
        "print(f'Difference: {diff:.4%}')"
      ],
      "metadata": {
        "colab": {
          "base_uri": "https://localhost:8080/"
        },
        "id": "x4qJliZlTC2b",
        "outputId": "e608eb0f-25d0-4334-b0c2-c4f0798008f1"
      },
      "execution_count": null,
      "outputs": [
        {
          "output_type": "stream",
          "name": "stdout",
          "text": [
            "Gate 30 One-day Retention: 46.7541%\n",
            "Gate 50 One-day Retention: 46.2171%\n",
            "Difference: -0.5371%\n"
          ]
        }
      ]
    },
    {
      "cell_type": "code",
      "source": [
        "#Perform a t-test to compare the two groups\n",
        "t_statistic, p_value = ttest_ind(df[df['gate']==30]['retention_day'], df[df['gate']==50]['retention_day'])\n",
        "\n",
        "#Calculate Lift\n",
        "baseline = df[df['gate']==30]['retention_day'].mean()\n",
        "lift = ((df[df['gate']==50]['retention_day'].mean() - baseline) / baseline)*100\n",
        "\n",
        "print(f'Lift: {lift:.2f}%')\n",
        "print(f't-statistic: {t_statistic:.3f}')\n",
        "print(f'p-value: {p_value:4f}')"
      ],
      "metadata": {
        "colab": {
          "base_uri": "https://localhost:8080/"
        },
        "id": "RyvB6yoRfb7b",
        "outputId": "9ecb232e-f99e-403a-d538-f885ae017780"
      },
      "execution_count": null,
      "outputs": [
        {
          "output_type": "stream",
          "name": "stdout",
          "text": [
            "Lift: -1.15%\n",
            "t-statistic: 1.581\n",
            "p-value: 0.113975\n"
          ]
        }
      ]
    },
    {
      "cell_type": "markdown",
      "source": [
        "# **One Week Retnention**"
      ],
      "metadata": {
        "id": "LeV31CYmUmQO"
      }
    },
    {
      "cell_type": "code",
      "source": [
        "#Count the number of True and False values for retention_week for each gate\n",
        "counts = df.groupby(['gate', 'retention_week'])['retention_week'].count()\n",
        "\n",
        "#Extract the counts for each category\n",
        "gate30_true_count = counts[30][True]\n",
        "gate30_false_count = counts[30][False]\n",
        "gate50_true_count = counts[50][True]\n",
        "gate50_false_count = counts[50][False]\n",
        "\n",
        "#Create a bar chart\n",
        "plt.bar([1,2,4,5], [gate30_true_count, gate30_false_count, gate50_true_count, gate50_false_count], width = 0.8, color=['blue', 'red', 'blue', 'red'])\n",
        "\n",
        "#Set the x-ticks and labels\n",
        "plt.xticks([1.5, 4.5], ['Gate 30', 'Gate 50'])\n",
        "plt.gca().xaxis.set_tick_params(width=0)\n",
        "\n",
        "#Set the chart title and axes labels\n",
        "plt.title('Retention Rate by Gate')\n",
        "plt.xlabel('Gate')\n",
        "plt.ylabel('Count')\n",
        "\n",
        "#Add labels to the bars\n",
        "plt.text(1, gate30_true_count + 200, str(gate30_true_count), ha='center')\n",
        "plt.text(2, gate30_false_count + 200, str(gate30_false_count), ha='center')\n",
        "plt.text(4, gate50_true_count + 200, str(gate50_true_count), ha='center')\n",
        "plt.text(5, gate50_false_count + 200, str(gate50_false_count), ha='center')\n",
        "\n",
        "#Display the chart\n",
        "plt.show()"
      ],
      "metadata": {
        "colab": {
          "base_uri": "https://localhost:8080/",
          "height": 472
        },
        "id": "VbekUMWy-8U7",
        "outputId": "6f14ebcd-49bf-44a6-d6b8-0890944c9be2"
      },
      "execution_count": null,
      "outputs": [
        {
          "output_type": "display_data",
          "data": {
            "text/plain": [
              "<Figure size 640x480 with 1 Axes>"
            ],
            "image/png": "[encoded data removed]"
          },
          "metadata": {}
        }
      ]
    },
    {
      "cell_type": "code",
      "source": [
        "#Calculate one-week retention for each group\n",
        "thirty_retention = df[df['gate']==30]['retention_week'].mean()\n",
        "fifty_retention = df[df['gate']==50]['retention_week'].mean()\n",
        "\n",
        "#Calculate the difference between the two groups\n",
        "diff = fifty_retention - thirty_retention\n",
        "\n",
        "print(f'Gate 30 One-week Retention: {thirty_retention:.4%}')\n",
        "print(f'Gate 50 One-week Retention: {fifty_retention:.4%}')\n",
        "print(f'Difference: {diff:.4%}')"
      ],
      "metadata": {
        "colab": {
          "base_uri": "https://localhost:8080/"
        },
        "id": "mzs6BC4TUlDq",
        "outputId": "d3340ac8-c3a6-4b1b-fced-328fec761f6c"
      },
      "execution_count": null,
      "outputs": [
        {
          "output_type": "stream",
          "name": "stdout",
          "text": [
            "Gate 30 One-week Retention: 19.8424%\n",
            "Gate 50 One-week Retention: 19.0321%\n",
            "Difference: -0.8103%\n"
          ]
        }
      ]
    },
    {
      "cell_type": "code",
      "source": [
        "#Perform a t-test to compare the two groups\n",
        "t_statistic, p_value = ttest_ind(df[df['gate']==30]['retention_week'], df[df['gate']==50]['retention_week'])\n",
        "\n",
        "#Calculate Lift\n",
        "baseline = df[df['gate']==30]['retention_week'].mean()\n",
        "lift = ((df[df['gate']==50]['retention_week'].mean() - baseline) / baseline)*100\n",
        "\n",
        "print(f'Lift: {lift:.2f}%')\n",
        "print(f't-statistic: {t_statistic:.3f}')\n",
        "print(f'p-value: {p_value:4f}')"
      ],
      "metadata": {
        "colab": {
          "base_uri": "https://localhost:8080/"
        },
        "id": "HZADE5VXl-WB",
        "outputId": "234ac72b-e71a-4984-e2d4-afe52eb6a25b"
      },
      "execution_count": null,
      "outputs": [
        {
          "output_type": "stream",
          "name": "stdout",
          "text": [
            "Lift: -4.08%\n",
            "t-statistic: 3.006\n",
            "p-value: 0.002646\n"
          ]
        }
      ]
    }
  ]
}